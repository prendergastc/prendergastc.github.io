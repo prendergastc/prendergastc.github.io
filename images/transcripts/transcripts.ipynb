{
 "cells": [
  {
   "cell_type": "code",
   "execution_count": 43,
   "id": "6cc0724f-95ee-47bf-bdac-483f1ef1451b",
   "metadata": {},
   "outputs": [],
   "source": [
    "import pandas as pd\n",
    "import tabulate"
   ]
  },
  {
   "cell_type": "code",
   "execution_count": 44,
   "id": "34aeb187-8252-4452-860c-1c2ddeb18823",
   "metadata": {},
   "outputs": [],
   "source": [
    "f = \"csv/transcripts.csv\""
   ]
  },
  {
   "cell_type": "code",
   "execution_count": 45,
   "id": "e021aea8-a694-4a71-b5d0-0d1c6585c618",
   "metadata": {},
   "outputs": [
    {
     "name": "stdout",
     "output_type": "stream",
     "text": [
      "/Users/christopher_prendergast/Documents/pelican/content/images/transcripts\n"
     ]
    }
   ],
   "source": [
    "!pwd"
   ]
  },
  {
   "cell_type": "code",
   "execution_count": 46,
   "id": "2e674d97-8ccb-4cfd-a9f8-799ae4607aa2",
   "metadata": {},
   "outputs": [
    {
     "name": "stdout",
     "output_type": "stream",
     "text": [
      "Transcript,Institution,Date,Image,pdf\n",
      "De Anza Transcript (1/2),De Anza College,05/01/2024,images/gis_qualifications/png/da_transcript_1.png,images/gis_qualifications/pdf/da_transcript.pdf\n",
      "De Anza Transcript (2/2),De Anza College,05/01/2024,images/gis_qualifications/png/da_transcript_2.png,images/gis_qualifications/pdf/da_transcript.pdf\n",
      "Foothill Transcript (1/2),Foothill College,05/01/2024,images/gis_qualifications/png/fh_transcript_1.png,images/gis_qualifications/pdf/fh_transcript.pdf\n",
      "Foothill Transcript (2/2),Foothill College,05/01/2024,images/gis_qualifications/png/fh_transcript_2.png,images/gis_qualifications/pdf/fh_transcript.pdf\n",
      "West Valley Transcript (1/1),West Valley College,05/01/2024,images/gis_qualifications/png/wv_transcript_1.png,images/gis_qualifications/pdf/wv_transcript.pdf"
     ]
    }
   ],
   "source": [
    "!cat csv/transcripts.csv"
   ]
  },
  {
   "cell_type": "code",
   "execution_count": 47,
   "id": "3b4c26a2-e4ca-42a1-b76d-06bad4325cbc",
   "metadata": {},
   "outputs": [
    {
     "data": {
      "text/html": [
       "<div>\n",
       "<style scoped>\n",
       "    .dataframe tbody tr th:only-of-type {\n",
       "        vertical-align: middle;\n",
       "    }\n",
       "\n",
       "    .dataframe tbody tr th {\n",
       "        vertical-align: top;\n",
       "    }\n",
       "\n",
       "    .dataframe thead th {\n",
       "        text-align: right;\n",
       "    }\n",
       "</style>\n",
       "<table border=\"1\" class=\"dataframe\">\n",
       "  <thead>\n",
       "    <tr style=\"text-align: right;\">\n",
       "      <th></th>\n",
       "      <th>Transcript</th>\n",
       "      <th>Institution</th>\n",
       "      <th>Date</th>\n",
       "      <th>Image</th>\n",
       "      <th>pdf</th>\n",
       "    </tr>\n",
       "  </thead>\n",
       "  <tbody>\n",
       "    <tr>\n",
       "      <th>0</th>\n",
       "      <td>De Anza Transcript (1/2)</td>\n",
       "      <td>De Anza College</td>\n",
       "      <td>05/01/2024</td>\n",
       "      <td>images/gis_qualifications/png/da_transcript_1.png</td>\n",
       "      <td>images/gis_qualifications/pdf/da_transcript.pdf</td>\n",
       "    </tr>\n",
       "    <tr>\n",
       "      <th>1</th>\n",
       "      <td>De Anza Transcript (2/2)</td>\n",
       "      <td>De Anza College</td>\n",
       "      <td>05/01/2024</td>\n",
       "      <td>images/gis_qualifications/png/da_transcript_2.png</td>\n",
       "      <td>images/gis_qualifications/pdf/da_transcript.pdf</td>\n",
       "    </tr>\n",
       "    <tr>\n",
       "      <th>2</th>\n",
       "      <td>Foothill Transcript (1/2)</td>\n",
       "      <td>Foothill College</td>\n",
       "      <td>05/01/2024</td>\n",
       "      <td>images/gis_qualifications/png/fh_transcript_1.png</td>\n",
       "      <td>images/gis_qualifications/pdf/fh_transcript.pdf</td>\n",
       "    </tr>\n",
       "    <tr>\n",
       "      <th>3</th>\n",
       "      <td>Foothill Transcript (2/2)</td>\n",
       "      <td>Foothill College</td>\n",
       "      <td>05/01/2024</td>\n",
       "      <td>images/gis_qualifications/png/fh_transcript_2.png</td>\n",
       "      <td>images/gis_qualifications/pdf/fh_transcript.pdf</td>\n",
       "    </tr>\n",
       "    <tr>\n",
       "      <th>4</th>\n",
       "      <td>West Valley Transcript (1/1)</td>\n",
       "      <td>West Valley College</td>\n",
       "      <td>05/01/2024</td>\n",
       "      <td>images/gis_qualifications/png/wv_transcript_1.png</td>\n",
       "      <td>images/gis_qualifications/pdf/wv_transcript.pdf</td>\n",
       "    </tr>\n",
       "  </tbody>\n",
       "</table>\n",
       "</div>"
      ],
      "text/plain": [
       "                     Transcript          Institution        Date  \\\n",
       "0      De Anza Transcript (1/2)      De Anza College  05/01/2024   \n",
       "1      De Anza Transcript (2/2)      De Anza College  05/01/2024   \n",
       "2     Foothill Transcript (1/2)     Foothill College  05/01/2024   \n",
       "3     Foothill Transcript (2/2)     Foothill College  05/01/2024   \n",
       "4  West Valley Transcript (1/1)  West Valley College  05/01/2024   \n",
       "\n",
       "                                               Image  \\\n",
       "0  images/gis_qualifications/png/da_transcript_1.png   \n",
       "1  images/gis_qualifications/png/da_transcript_2.png   \n",
       "2  images/gis_qualifications/png/fh_transcript_1.png   \n",
       "3  images/gis_qualifications/png/fh_transcript_2.png   \n",
       "4  images/gis_qualifications/png/wv_transcript_1.png   \n",
       "\n",
       "                                               pdf  \n",
       "0  images/gis_qualifications/pdf/da_transcript.pdf  \n",
       "1  images/gis_qualifications/pdf/da_transcript.pdf  \n",
       "2  images/gis_qualifications/pdf/fh_transcript.pdf  \n",
       "3  images/gis_qualifications/pdf/fh_transcript.pdf  \n",
       "4  images/gis_qualifications/pdf/wv_transcript.pdf  "
      ]
     },
     "execution_count": 47,
     "metadata": {},
     "output_type": "execute_result"
    }
   ],
   "source": [
    "df = pd.read_csv(f)\n",
    "df"
   ]
  },
  {
   "cell_type": "code",
   "execution_count": 48,
   "id": "86ce808d-fe36-440f-bbf3-038d28bacf39",
   "metadata": {},
   "outputs": [
    {
     "name": "stdout",
     "output_type": "stream",
     "text": [
      "### De Anza Transcript (1/2)\n",
      "\n",
      "[![De Anza Transcript (1/2)](images/gis_qualifications/png/da_transcript_1.png){: .image-process-large-photo}](images/gis_qualifications/png/da_transcript_1.png){class=\"mybox\"}\n",
      "\n",
      "[PDF file]({static}images/gis_qualifications/pdf/da_transcript.pdf) | [Return to overview](#overview)\n",
      "\n",
      "### De Anza Transcript (2/2)\n",
      "\n",
      "[![De Anza Transcript (2/2)](images/gis_qualifications/png/da_transcript_2.png){: .image-process-large-photo}](images/gis_qualifications/png/da_transcript_2.png){class=\"mybox\"}\n",
      "\n",
      "[PDF file]({static}images/gis_qualifications/pdf/da_transcript.pdf) | [Return to overview](#overview)\n",
      "\n",
      "### Foothill Transcript (1/2)\n",
      "\n",
      "[![Foothill Transcript (1/2)](images/gis_qualifications/png/fh_transcript_1.png){: .image-process-large-photo}](images/gis_qualifications/png/fh_transcript_1.png){class=\"mybox\"}\n",
      "\n",
      "[PDF file]({static}images/gis_qualifications/pdf/fh_transcript.pdf) | [Return to overview](#overview)\n",
      "\n",
      "### Foothill Transcript (2/2)\n",
      "\n",
      "[![Foothill Transcript (2/2)](images/gis_qualifications/png/fh_transcript_2.png){: .image-process-large-photo}](images/gis_qualifications/png/fh_transcript_2.png){class=\"mybox\"}\n",
      "\n",
      "[PDF file]({static}images/gis_qualifications/pdf/fh_transcript.pdf) | [Return to overview](#overview)\n",
      "\n",
      "### West Valley Transcript (1/1)\n",
      "\n",
      "[![West Valley Transcript (1/1)](images/gis_qualifications/png/wv_transcript_1.png){: .image-process-large-photo}](images/gis_qualifications/png/wv_transcript_1.png){class=\"mybox\"}\n",
      "\n",
      "[PDF file]({static}images/gis_qualifications/pdf/wv_transcript.pdf) | [Return to overview](#overview)\n",
      "\n"
     ]
    }
   ],
   "source": [
    "df.columns = [c.lower() for c in df.columns]\n",
    "\n",
    "for index, row in df.iterrows():\n",
    "\n",
    "    q = str(row[\"transcript\"])\n",
    "    ins = str(row[\"institution\"])\n",
    "    # h = str(row[\"honors\"])\n",
    "    # g = str(row[\"gpa\"])\n",
    "    d = str(row[\"date\"])\n",
    "    img = str(row[\"image\"])\n",
    "    # l = str(row[\"link\"])\n",
    "    p = str(row[\"pdf\"])\n",
    "\n",
    "    \n",
    "    image = (\n",
    "        '[!'\n",
    "            + '[' + q + ']'\n",
    "            + '(' + img + ')'\n",
    "            + '{: .image-process-large-photo}'\n",
    "        + ']'\n",
    "        + '(' + img + ')'\n",
    "        + '{class=\"mybox\"}'\n",
    "    )\n",
    "\n",
    "    # [PDF file]({static}images/mrosd/pdf/basemap_imagery_11x17_v3.pdf)\n",
    "\n",
    "    lst = []\n",
    "\n",
    "    print(\"###\", q)\n",
    "    print()\n",
    "    print(image)\n",
    "    print()\n",
    "\n",
    "    if p.strip() != \"nan\":\n",
    "        pdf = '[PDF file]({static}' + p + ')'\n",
    "        lst.append(pdf)\n",
    "        \n",
    "    # if l.strip() != \"nan\":\n",
    "    #     link = '[External Link](' + l + ')'\n",
    "    #     lst.append(link)\n",
    "    \n",
    "    lst.append(\"[Return to overview](#overview)\")\n",
    "    print(\" | \".join(lst))\n",
    "    print()"
   ]
  },
  {
   "cell_type": "code",
   "execution_count": 49,
   "id": "d0652eff-01d7-4f48-870d-6333ce88af56",
   "metadata": {},
   "outputs": [
    {
     "name": "stdout",
     "output_type": "stream",
     "text": [
      "| Transcript                                                 | Institution         | Date       |\n",
      "|:-----------------------------------------------------------|:--------------------|:-----------|\n",
      "| [De Anza Transcript (1/2)](#de-anza-transcript-12)         | De Anza College     | 05/01/2024 |\n",
      "| [De Anza Transcript (2/2)](#de-anza-transcript-22)         | De Anza College     | 05/01/2024 |\n",
      "| [Foothill Transcript (1/2)](#foothill-transcript-12)       | Foothill College    | 05/01/2024 |\n",
      "| [Foothill Transcript (2/2)](#foothill-transcript-22)       | Foothill College    | 05/01/2024 |\n",
      "| [West Valley Transcript (1/1)](#west-valley-transcript-11) | West Valley College | 05/01/2024 |\n"
     ]
    }
   ],
   "source": [
    "import string, re\n",
    "\n",
    "def make_id(q):\n",
    "    a = q.lower()\n",
    "    a = re.sub('\\\\s+', '-', a)\n",
    "    a = re.sub('[^0-9a-zA-Z-]+', '', a)\n",
    "    return a\n",
    "\n",
    "def make_link(q):\n",
    "    return f\"[{q}](#{make_id(q)})\"\n",
    "    \n",
    "df = df.loc[:, [\"transcript\", \"institution\", \"date\"]]\n",
    "df[\"transcript\"] = df[\"transcript\"].apply(make_link)\n",
    "\n",
    "df.columns = [string.capwords(c) for c in df.columns]\n",
    "str_ = df.to_markdown(index=False)\n",
    "print(str_)"
   ]
  },
  {
   "cell_type": "code",
   "execution_count": null,
   "id": "132e952f-e424-443c-abef-0b7ba5c1b879",
   "metadata": {},
   "outputs": [],
   "source": []
  }
 ],
 "metadata": {
  "kernelspec": {
   "display_name": "Python 3 (ipykernel)",
   "language": "python",
   "name": "python3"
  },
  "language_info": {
   "codemirror_mode": {
    "name": "ipython",
    "version": 3
   },
   "file_extension": ".py",
   "mimetype": "text/x-python",
   "name": "python",
   "nbconvert_exporter": "python",
   "pygments_lexer": "ipython3",
   "version": "3.13.5"
  }
 },
 "nbformat": 4,
 "nbformat_minor": 5
}
